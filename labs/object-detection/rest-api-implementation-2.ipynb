{
 "cells": [
  {
   "cell_type": "markdown",
   "metadata": {},
   "source": [
    "# API 구현: `model.py`\n",
    "\n",
    "사전 학습된 모델을 불러오는 함수를 작성해보겠습니다. 대부분의 코드는 앞에서 작성한 것을 활용하겠습니다."
   ]
  },
  {
   "cell_type": "code",
   "execution_count": null,
   "metadata": {
    "id": "yYps-mE79A9X"
   },
   "outputs": [],
   "source": [
    "# model.py\n",
    "\n",
    "# Object Detection 모델들 중, Faster R-CNN 모델 불러오기\n",
    "from torchvision.models.detection import FasterRCNN_ResNet50_FPN_V2_Weights, fasterrcnn_resnet50_fpn_v2\n",
    "\n",
    "# 앞에서 가져온 가중치를 제공하여 사전 학습된 모델 가져오기\n",
    "def load_model_and_preprocess(device='cpu'):\n",
    "  weights = FasterRCNN_ResNet50_FPN_V2_Weights.DEFAULT\n",
    "  model = fasterrcnn_resnet50_fpn_v2(weights=weights, box_score_thresh=0.5) # 기본값(0.5) 이상인 객체들을 탐지 후 필터링하여 반환\n",
    "  model.to(device) # 지정된 장치로 모델 이동\n",
    "  model.eval()     # (학습이 아닌) 추론 모드로 설정\n",
    "\n",
    "  return model, weights.transforms(), weights.meta\n",
    "\n",
    "# 모델 불러오기 동작 확인\n",
    "if __name__ == '__main__':\n",
    "  model, preprocess, meta = load_model_and_preprocess()\n",
    "  print(model)\n",
    "  print(preprocess)\n",
    "  print(meta)"
   ]
  },
  {
   "cell_type": "code",
   "execution_count": null,
   "metadata": {
    "id": "tJCZj_r0EMxv"
   },
   "outputs": [],
   "source": []
  }
 ],
 "metadata": {
  "colab": {
   "provenance": []
  },
  "kernelspec": {
   "display_name": "Python 3",
   "name": "python3"
  },
  "language_info": {
   "name": "python"
  }
 },
 "nbformat": 4,
 "nbformat_minor": 0
}
