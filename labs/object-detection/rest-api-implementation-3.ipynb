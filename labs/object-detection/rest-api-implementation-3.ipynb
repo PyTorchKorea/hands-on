{
 "cells": [
  {
   "cell_type": "markdown",
   "metadata": {},
   "source": [
    "# API 구현: `utils.py`\n",
    "\n",
    "헬퍼(helper) 함수를 구현한 `utils.py` 파일을 작성해보겠습니다.\n",
    "\n",
    "앞에서 살펴본 Faster R-CNN 모델의 예측 결과는 다음과 같은 형태로 반환됩니다:\n",
    "```python\n",
    "{\n",
    "    'boxes': tensor([[x1, y1, x2, y2], ...]),\n",
    "    'labels': tensor([label1, ...]),\n",
    "    'scores': tensor([score1, ...]),\n",
    "}\n",
    "```\n",
    "\n",
    "REST API에서는 각 객체별 결과를 다음과 같이 반환해야 합니다:\n",
    "```python\n",
    "{\n",
    "    \"objects\": [\n",
    "    {\n",
    "        \"class\": 1,\n",
    "        \"label\": \"person\",\n",
    "        \"score\": 0.99,\n",
    "        \"bbox\": [x1, y1, x2, y2]\n",
    "    },\n",
    "    ...\n",
    "    ]\n",
    "}\n",
    "```\n",
    "\n",
    "위와 같이 각 객체 별로 `class`, `label`, `score`, `bbox` 정보를 반환하도록 헬퍼 함수를 구현해보겠습니다."
   ]
  },
  {
   "cell_type": "code",
   "execution_count": null,
   "metadata": {
    "id": "yYps-mE79A9X"
   },
   "outputs": [],
   "source": [
    "# utils.py\n",
    "\n",
    "# 결과 필터링 함수\n",
    "def filter_results(outputs, categories, threshold=0.5):\n",
    "  filtered_results = []\n",
    "\n",
    "  for label, score, box in zip(outputs['labels'], outputs['scores'], outputs['boxes']):\n",
    "    if score < threshold:\n",
    "      continue\n",
    "\n",
    "    filtered_results.append({\n",
    "      \"class\": int(label),\n",
    "      \"label\": categories[int(label)],\n",
    "      \"score\": float(score),\n",
    "      \"bbox\": [float(coord) for coord in box]\n",
    "    })\n",
    "\n",
    "  return filtered_results\n",
    "\n",
    "# 결과 필터링 함수 동작 확인\n",
    "if __name__ == \"__main__\":\n",
    "  sample_outputs = {\n",
    "    \"labels\": [1, 1, 2, 3, 4],\n",
    "    \"scores\": [0.9, 0.8, 0.7, 0.6, 0.5],\n",
    "    \"boxes\": [[1, 2, 3, 4], [5, 6, 7, 8], [9, 10, 11, 12], [13, 14, 15, 16], [17, 18, 19, 20]]\n",
    "  }\n",
    "  sample_categories = {1: \"cat\", 2: \"dog\", 3: \"bird\", 4: \"fish\"}\n",
    "\n",
    "  print(filter_results(sample_outputs, sample_categories, 0.75))\n"
   ]
  }
 ],
 "metadata": {
  "colab": {
   "provenance": []
  },
  "kernelspec": {
   "display_name": "Python 3",
   "name": "python3"
  },
  "language_info": {
   "name": "python"
  }
 },
 "nbformat": 4,
 "nbformat_minor": 0
}
