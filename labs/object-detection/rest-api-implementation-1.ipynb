{
 "cells": [
  {
   "cell_type": "markdown",
   "metadata": {
    "id": "Gg79qWDB9C9Z"
   },
   "source": [
    "# 개발 환경 구성\n",
    "\n",
    "## 프로젝트 구성\n",
    "\n",
    "프로젝트 디렉토리를 만들고, 다음과 같이 4개 파일을 생성합니다(통크게 디렉토리명을 `pytorch-vision-api`로 지어봤습니다.🤣):\n",
    "\n",
    "```\n",
    "pytorch-vision-api/\n",
    "├── app.py       # FastAPI 메인 파일\n",
    "├── model.py     # 모델 로드 및 추론 함수\n",
    "├── utils.py     # 유틸리티 함수\n",
    "└── requirements.txt # 의존성 패키지 목록\n",
    "```\n",
    "\n",
    "## 필요 패키지 설치\n",
    "\n",
    "먼저 `requirements.txt` 파일의 내용을 아래와 같이 작성하고, 이를 사용하여 설치해보겠습니다:\n",
    "\n",
    "```text\n",
    "# PyTorch 및 torchvision\n",
    "torch==2.5.0\n",
    "torchvision==0.20.0\n",
    "\n",
    "# FastAPI\n",
    "fastapi==0.115.5\n",
    "uvicorn==0.32.1\n",
    "python-multipart==0.0.17\n",
    "```\n",
    "\n",
    "파일을 저장한 다음, 필요 패키지를 설치합니다:\n",
    "\n",
    "```bash\n",
    "pip install -r requirements.txt\n",
    "```\n",
    "\n",
    "별다른 에러 없이 설치가 완료된다면 다음으로 넘어가보겠습니다.\n"
   ]
  }
 ],
 "metadata": {
  "colab": {
   "provenance": []
  },
  "kernelspec": {
   "display_name": "Python 3",
   "name": "python3"
  },
  "language_info": {
   "name": "python"
  }
 },
 "nbformat": 4,
 "nbformat_minor": 0
}
